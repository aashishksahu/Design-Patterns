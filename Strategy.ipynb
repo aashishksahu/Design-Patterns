{
 "cells": [
  {
   "cell_type": "markdown",
   "metadata": {},
   "source": [
    "# Strategy Pattern\n",
    "\n",
    "<!-- ![Strategy UML - https://refactoring.guru/design-patterns/strategy](assets/strategy.png) -->\n",
    "<img src=\"https://github.com/aashishksahu/Design-Patterns/blob/master/assets/strategy.png?raw=true\">"
   ]
  },
  {
   "cell_type": "markdown",
   "metadata": {},
   "source": [
    "**Definition from Head First Design Patterns**\n",
    "\n",
    ">The Strategy Pattern defines a family of algorithms, encapsulates each one, and makes them interchangeable. Strategy lets the algorithm vary independently from clients that use it.\n",
    "\n",
    "**What I understood**\n",
    "\n",
    "If you need to create a piece of software that adds new requirements, then you want to be able to maintain it in such a way that adding new algorithms and functionality doesn't break down the existing ones.\n",
    "\n",
    "Strategy pattern in layman terms is plug-n-play. Instead of hard binding a set of functionality in a base class and override it in the derived class we can create a generic interface or class that describes the behaiviour or strategy to implement that algorithm. \n",
    "\n",
    "For example, If I am making robots for the government, I will create different kinds of robots, such as, military robots, flight robots for air force, stealth robots for intelligence agencies, clerk robots for reception etc. A military robot and a stealth robot both will use guns, but a military robot might use a rifle while a stealth robot uses a handgun with supressor. A clerk robot will not use guns at all. Therefore, we need to have multiple implementations of `````````gunUseStrategy````````` to suit the needs of a specific robot. "
   ]
  },
  {
   "cell_type": "code",
   "execution_count": 1,
   "metadata": {},
   "outputs": [],
   "source": [
    "// Interface for gun use\n",
    "\n",
    "interface GunUseStrategy{\n",
    "    public String firearmsType();\n",
    "}"
   ]
  },
  {
   "cell_type": "code",
   "execution_count": 2,
   "metadata": {},
   "outputs": [],
   "source": [
    "// Implementing GunUseStrategy for Military robots\n",
    "class MilitaryGunUseStrategy implements GunUseStrategy{\n",
    "    @Override\n",
    "    public String firearmsType(){\n",
    "        return(\"Standard issue AR-15 for use in Military\");\n",
    "    }\n",
    "}\n",
    "\n",
    "// Implementing GunUseStrategy for Stealth robots\n",
    "class StealthGunUseStrategy implements GunUseStrategy{\n",
    "    @Override\n",
    "    public String firearmsType(){\n",
    "        return (\"Glock G17 9mm for stealth operations\");\n",
    "    }\n",
    "}\n",
    "\n",
    "// Implementing GunUseStrategy for robots without gun privileges\n",
    "class NoGunUseStrategy implements GunUseStrategy{\n",
    "    @Override\n",
    "    public String firearmsType(){\n",
    "        return \"firearms not applicable\";\n",
    "    }\n",
    "}"
   ]
  },
  {
   "cell_type": "markdown",
   "metadata": {},
   "source": [
    "Now, We want to add a hand-to-hand combat strategy that the robot can use when there are no guns. Therefore, we create a `````````HandToHandCombatStrategy````````` interface"
   ]
  },
  {
   "cell_type": "code",
   "execution_count": 3,
   "metadata": {},
   "outputs": [],
   "source": [
    "// Interface for Hand To Hand Combat\n",
    "interface HandToHandCombatStrategy{\n",
    "    public String tacticType();\n",
    "}"
   ]
  },
  {
   "cell_type": "code",
   "execution_count": 4,
   "metadata": {},
   "outputs": [],
   "source": [
    "// Implementing standard HandToHandCombatStrategy\n",
    "class StandardHandToHandCombatStrategy implements HandToHandCombatStrategy{\n",
    "    @Override\n",
    "    public String tacticType(){\n",
    "        return(\"Mixed Martial Arts\");\n",
    "    }\n",
    "}\n",
    "\n",
    "// Implementing special HandToHandCombatStrategy\n",
    "class SpecialHandToHandCombatStrategy implements HandToHandCombatStrategy{\n",
    "    @Override\n",
    "    public String tacticType(){\n",
    "        return (\"Krav Maga\");\n",
    "    }\n",
    "}\n",
    "\n",
    "// Implementing basic HandToHandCombatStrategy\n",
    "class BasicHandToHandCombatStrategy implements HandToHandCombatStrategy{\n",
    "    @Override\n",
    "    public String tacticType(){\n",
    "        return (\"standard fitness training\");\n",
    "    }\n",
    "}"
   ]
  },
  {
   "cell_type": "code",
   "execution_count": 5,
   "metadata": {},
   "outputs": [],
   "source": [
    "// Now we'll create a military robot with special hand to hand combat training and military gun use capabilities\n",
    "class MilitaryRobot{\n",
    "    \n",
    "    private GunUseStrategy firearms;\n",
    "    private HandToHandCombatStrategy combat; \n",
    "    \n",
    "    public MilitaryRobot(){\n",
    "        this.firearms = new MilitaryGunUseStrategy();\n",
    "        this.combat = new SpecialHandToHandCombatStrategy();\n",
    "    }\n",
    "    \n",
    "    public void config(){\n",
    "        System.out.println(\"++++++++ Military ++++++++\");\n",
    "        System.out.println(\"[Firearms] \"+this.firearms.firearmsType());\n",
    "        System.out.println(\"[Combat] \"+this.combat.tacticType());\n",
    "        System.out.println(\"\\n\");\n",
    "    }\n",
    "}"
   ]
  },
  {
   "cell_type": "code",
   "execution_count": 6,
   "metadata": {},
   "outputs": [],
   "source": [
    "// Let's create a stealth robot with special hand to hand combat training and stealth gun use capabilities\n",
    "class StealthRobot{\n",
    "    \n",
    "    private GunUseStrategy firearms;\n",
    "    private HandToHandCombatStrategy combat; \n",
    "    \n",
    "    public StealthRobot(){\n",
    "        this.firearms = new StealthGunUseStrategy();\n",
    "        this.combat = new SpecialHandToHandCombatStrategy();\n",
    "    }\n",
    "    \n",
    "    public void config(){\n",
    "        System.out.println(\"++++++++ Stealth ++++++++\");\n",
    "        System.out.println(\"[Firearms] \"+this.firearms.firearmsType());\n",
    "        System.out.println(\"[Combat] \"+this.combat.tacticType());\n",
    "        System.out.println(\"\\n\");\n",
    "    }\n",
    "}"
   ]
  },
  {
   "cell_type": "code",
   "execution_count": 7,
   "metadata": {},
   "outputs": [],
   "source": [
    "// Now, we will create a speacial agent robot with standard hand to hand combat training and stealth gun use capabilities\n",
    "class AgentRobot{\n",
    "    \n",
    "    private GunUseStrategy firearms;\n",
    "    private HandToHandCombatStrategy combat; \n",
    "    \n",
    "    public AgentRobot(){\n",
    "        this.firearms = new StealthGunUseStrategy();\n",
    "        this.combat = new StandardHandToHandCombatStrategy();\n",
    "    }\n",
    "    \n",
    "    public void config(){\n",
    "        System.out.println(\"++++++++ Special Agent ++++++++\");\n",
    "        System.out.println(\"[Firearms] \"+this.firearms.firearmsType());\n",
    "        System.out.println(\"[Combat] \"+this.combat.tacticType());\n",
    "        System.out.println(\"\\n\");\n",
    "    }\n",
    "}"
   ]
  },
  {
   "cell_type": "code",
   "execution_count": 8,
   "metadata": {},
   "outputs": [],
   "source": [
    "// Finally, we create a police robot with basic hand to hand combat training and stealth gun use capabilities\n",
    "class PoliceRobot{\n",
    "    \n",
    "    private GunUseStrategy firearms;\n",
    "    private HandToHandCombatStrategy combat; \n",
    "    \n",
    "    public PoliceRobot(){\n",
    "        this.firearms = new StealthGunUseStrategy();\n",
    "        this.combat = new BasicHandToHandCombatStrategy();\n",
    "    }\n",
    "    \n",
    "    public void config(){\n",
    "        System.out.println(\"++++++++ police ++++++++\");\n",
    "        System.out.println(\"[Firearms] \"+this.firearms.firearmsType());\n",
    "        System.out.println(\"[Combat] \"+this.combat.tacticType());\n",
    "        System.out.println(\"\\n\");\n",
    "    }\n",
    "}"
   ]
  },
  {
   "cell_type": "markdown",
   "metadata": {},
   "source": [
    "#### Let us see what our robots look like"
   ]
  },
  {
   "cell_type": "code",
   "execution_count": 9,
   "metadata": {},
   "outputs": [
    {
     "name": "stdout",
     "output_type": "stream",
     "text": [
      "++++++++ Military ++++++++\n",
      "[Firearms] Standard issue AR-15 for use in Military\n",
      "[Combat] Krav Maga\n",
      "\n",
      "\n"
     ]
    }
   ],
   "source": [
    "MilitaryRobot m = new MilitaryRobot();\n",
    "m.config();"
   ]
  },
  {
   "cell_type": "code",
   "execution_count": 10,
   "metadata": {},
   "outputs": [
    {
     "name": "stdout",
     "output_type": "stream",
     "text": [
      "++++++++ Stealth ++++++++\n",
      "[Firearms] Glock G17 9mm for stealth operations\n",
      "[Combat] Krav Maga\n",
      "\n",
      "\n"
     ]
    }
   ],
   "source": [
    "StealthRobot s = new StealthRobot();\n",
    "s.config();"
   ]
  },
  {
   "cell_type": "code",
   "execution_count": 11,
   "metadata": {},
   "outputs": [
    {
     "name": "stdout",
     "output_type": "stream",
     "text": [
      "++++++++ Special Agent ++++++++\n",
      "[Firearms] Glock G17 9mm for stealth operations\n",
      "[Combat] Mixed Martial Arts\n",
      "\n",
      "\n"
     ]
    }
   ],
   "source": [
    "AgentRobot a = new AgentRobot();\n",
    "a.config();"
   ]
  },
  {
   "cell_type": "code",
   "execution_count": 12,
   "metadata": {},
   "outputs": [
    {
     "name": "stdout",
     "output_type": "stream",
     "text": [
      "++++++++ police ++++++++\n",
      "[Firearms] Glock G17 9mm for stealth operations\n",
      "[Combat] standard fitness training\n",
      "\n",
      "\n"
     ]
    }
   ],
   "source": [
    "PoliceRobot p = new PoliceRobot();\n",
    "p.config();"
   ]
  },
  {
   "cell_type": "markdown",
   "metadata": {},
   "source": [
    "As we can see, we have a family of algorithms (```MilitaryGunUseStrategy```, ```NoGunUseStrategy```, ```StealthGunUseStrategy```) and  (```SpecialHandToHandCombatStrategy```, ```StandardHandToHandCombatStrategy```, ```BasicHandToHandCombatStrategy```) encapsulated by ```GunUseStrategy``` and ```HandToHandCombatStrategy``` interfaces respectively, and have used them interchangeably in different configurations as seen above. "
   ]
  }
 ],
 "metadata": {
  "kernelspec": {
   "display_name": "Java",
   "language": "java",
   "name": "java"
  },
  "language_info": {
   "codemirror_mode": "java",
   "file_extension": ".jshell",
   "mimetype": "text/x-java-source",
   "name": "Java",
   "pygments_lexer": "java",
   "version": "11.0.8+10-post-Ubuntu-0ubuntu118.04.1"
  }
 },
 "nbformat": 4,
 "nbformat_minor": 4
}
