{
 "cells": [
  {
   "cell_type": "markdown",
   "metadata": {},
   "source": [
    "# Singleton\n",
    "\n",
    "The whole idea behind singlton pattern is to make sure there's only one instance of the subject class in the entire runtime of a program.\n",
    "\n",
    "This can be achieved by making sure of the following two things:\n",
    "* The Constructor is inaccessible outside the class definition (i.e., no new operator)\n",
    "* An initializer method that initializes an instance of that class if none exists"
   ]
  },
  {
   "cell_type": "code",
   "execution_count": 1,
   "metadata": {},
   "outputs": [],
   "source": [
    "class SingletonSomething{\n",
    "    private int value;\n",
    "    \n",
    "    // make the constructor private so no new intances can be created\n",
    "    private SingletonSomething(){}\n",
    "    private SingletonSomething(int value){\n",
    "        this.value = value;\n",
    "    }\n",
    "    \n",
    "    // a placeholder to store a reference of an instance of this \n",
    "    // class. If this is not null, then an instance exists.\n",
    "    private static SingletonSomething instance = null;\n",
    "    \n",
    "    // a static method to initialize new instance, but only once\n",
    "    public static SingletonSomething initialize(int value){\n",
    "        if(instance == null){\n",
    "            instance = new SingletonSomething(value);\n",
    "\n",
    "        }else{\n",
    "            System.out.println(\"Instance already exists\");    \n",
    "        \n",
    "        }\n",
    "        return instance;\n",
    "    }\n",
    "    \n",
    "    public int getValue(){\n",
    "        return this.value;\n",
    "    }\n",
    "}"
   ]
  },
  {
   "cell_type": "code",
   "execution_count": 2,
   "metadata": {},
   "outputs": [
    {
     "name": "stdout",
     "output_type": "stream",
     "text": [
      "3\n"
     ]
    }
   ],
   "source": [
    "// create a new instance\n",
    "SingletonSomething newInstance = SingletonSomething.initialize(3);\n",
    "System.out.println(newInstance.getValue());"
   ]
  },
  {
   "cell_type": "markdown",
   "metadata": {},
   "source": [
    "The current value of the instance is 3, now a single instance exists in the memory, let's create another instance"
   ]
  },
  {
   "cell_type": "code",
   "execution_count": 3,
   "metadata": {},
   "outputs": [
    {
     "name": "stdout",
     "output_type": "stream",
     "text": [
      "Instance already exists\n",
      "3\n"
     ]
    }
   ],
   "source": [
    "SingletonSomething anotherInstance = SingletonSomething.initialize(10);\n",
    "System.out.println(anotherInstance.getValue());"
   ]
  },
  {
   "cell_type": "markdown",
   "metadata": {},
   "source": [
    "As we can see we get an instance already exists message, and a reference to the existing object is returned"
   ]
  }
 ],
 "metadata": {
  "kernelspec": {
   "display_name": "Java",
   "language": "java",
   "name": "java"
  },
  "language_info": {
   "codemirror_mode": "java",
   "file_extension": ".jshell",
   "mimetype": "text/x-java-source",
   "name": "Java",
   "pygments_lexer": "java",
   "version": "11.0.8+10-post-Ubuntu-0ubuntu118.04.1"
  }
 },
 "nbformat": 4,
 "nbformat_minor": 4
}
