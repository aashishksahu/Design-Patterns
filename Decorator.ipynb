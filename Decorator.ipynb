{
 "cells": [
  {
   "cell_type": "markdown",
   "metadata": {},
   "source": [
    "# Decorator Pattern\n",
    "\n",
    "<img src=\"https://upload.wikimedia.org/wikipedia/commons/thumb/e/e9/Decorator_UML_class_diagram.svg/800px-Decorator_UML_class_diagram.svg.png\" width=500>"
   ]
  },
  {
   "cell_type": "markdown",
   "metadata": {},
   "source": [
    "Definitiion from Head First Design Patterns\n",
    "\n",
    "> The Decorator Pattern attaches additional responsibilities to an object dynamically.\n",
    "Decorators provide a flexible alternative to subclassing for extending functionality.\n",
    "\n",
    "Decorator pattern makes it easy to add functionalities to a base object at runtime. It solves the problem of an inheritence hell, when you have to inherit hundreds of different classes from a base class or interface.\n",
    "\n",
    "Example:\n",
    "Let's say we have to create a robot. Every robot comes with a base classification, i.e, a set of base functionalites like an arm, vision, hearing etc. Now we need to customize our robot to suit diffferent needs like an industrial robot that needs two arms, or a communication robot that needs a radio transmitter. A construction robot that needs pressure sensors and altimeter etc.\n",
    "\n",
    "This can be achieved by using a decorator pattern. Following is how we implement this."
   ]
  },
  {
   "cell_type": "code",
   "execution_count": 1,
   "metadata": {},
   "outputs": [],
   "source": [
    "interface IRobotBase {\n",
    "    // core functionality of the robot\n",
    "    public String getCoreFunctionality();\n",
    "}"
   ]
  },
  {
   "cell_type": "code",
   "execution_count": 2,
   "metadata": {},
   "outputs": [],
   "source": [
    "abstract class IRobotDecorator implements IRobotBase {\n",
    "    // this is the base class placeholder\n",
    "    protected IRobotBase baseConfig;\n",
    "    \n",
    "    @Override\n",
    "    public String getCoreFunctionality(){\n",
    "        // returns the functinality of the base class in the baseConfig placeholder\n",
    "        return this.baseConfig.getCoreFunctionality();\n",
    "    }\n",
    "    \n",
    "    // Additional functionality of the robot\n",
    "    public abstract String getAdditionalFunctionality();\n",
    "}"
   ]
  },
  {
   "cell_type": "code",
   "execution_count": 3,
   "metadata": {},
   "outputs": [],
   "source": [
    "// Concrete implementation of IRobotBase \n",
    "\n",
    "// Commercial robot used in household/official/managment areas\n",
    "class StandardCommercialRobot implements IRobotBase{\n",
    "    \n",
    "    // stores robot system configuration\n",
    "    private String config = \"Base Commercial Package\";\n",
    "    \n",
    "    @Override\n",
    "    public String getCoreFunctionality(){\n",
    "        return this.config;\n",
    "    }\n",
    "}\n",
    "\n",
    "\n",
    "// Industry robot used in factories/military/production/lifiting areas\n",
    "class StandardIndustrialRobot implements IRobotBase{\n",
    "    \n",
    "    // stores robot system configuration\n",
    "    private String config = \"Base Industrial Package\";\n",
    "    \n",
    "    @Override\n",
    "    public String getCoreFunctionality(){\n",
    "        return this.config;\n",
    "    }\n",
    "}"
   ]
  },
  {
   "cell_type": "code",
   "execution_count": 4,
   "metadata": {},
   "outputs": [],
   "source": [
    "// Concrete implementation of IRobotDecorator\n",
    "class AltimeterDecorator extends IRobotDecorator{\n",
    "    // placeholder to hold decorators passed into constructor\n",
    "    private IRobotDecorator wrappedDecorator;\n",
    "    \n",
    "    // type of plugin\n",
    "    private String plugin = \"Altimeter\";\n",
    "    \n",
    "    // if this decorator wraps a base class\n",
    "    public AltimeterDecorator(IRobotBase baseConf){\n",
    "        // declared in the parent class\n",
    "        this.baseConfig = baseConf;\n",
    "    }\n",
    "    \n",
    "    // if this decorator wraps another decorator\n",
    "    public AltimeterDecorator(IRobotDecorator wrappedDecorator){\n",
    "        this.wrappedDecorator = wrappedDecorator;\n",
    "    }\n",
    "    \n",
    "    \n",
    "    @Override\n",
    "    public String getAdditionalFunctionality(){\n",
    "        // if this decorator instance is wrapping a decorator\n",
    "        // then the following condition will be true\n",
    "        if(this.wrappedDecorator != null){\n",
    "            return this.wrappedDecorator.getAdditionalFunctionality()+\"\\n+ \"+this.plugin;\n",
    "        }\n",
    "        \n",
    "        // if this decorator is wrapping a base class and not another decorator, then following will happen \n",
    "        return this.getCoreFunctionality()+\"\\n+ \"+this.plugin;\n",
    "    }\n",
    "}\n",
    "\n",
    "\n",
    "// Concrete implementation of IRobotDecorator\n",
    "class AccelerometerDecorator extends IRobotDecorator{\n",
    "    // placeholder to hold decorators passed into constructor\n",
    "    private IRobotDecorator wrappedDecorator;\n",
    "    \n",
    "    // type of plugin\n",
    "    private String plugin = \"Accelerometer\";\n",
    "    \n",
    "    // if this decorator wraps a base class\n",
    "    public AccelerometerDecorator(IRobotBase baseConf){\n",
    "        // declared in the parent class\n",
    "        this.baseConfig = baseConf;\n",
    "    }\n",
    "    \n",
    "    // if this decorator wraps another decorator\n",
    "    public AccelerometerDecorator(IRobotDecorator wrappedDecorator){\n",
    "        this.wrappedDecorator = wrappedDecorator;\n",
    "    }\n",
    "    \n",
    "    \n",
    "    @Override\n",
    "    public String getAdditionalFunctionality(){\n",
    "        // if this decorator instance is wrapping a decorator\n",
    "        // then the following condition will be true\n",
    "        if(this.wrappedDecorator != null){\n",
    "            return this.wrappedDecorator.getAdditionalFunctionality()+\"\\n+ \"+this.plugin;\n",
    "        }\n",
    "        \n",
    "        // if this decorator is wrapping a base class and not another decorator, then following will happen \n",
    "        return this.getCoreFunctionality()+\"\\n+ \"+this.plugin;\n",
    "    }\n",
    "}"
   ]
  },
  {
   "cell_type": "markdown",
   "metadata": {},
   "source": [
    "Now, we will follow this chain\n",
    "\n",
    "```scr``` -> ```ald``` -> ```ald2``` -> ```acc```\n",
    "\n",
    "this means, ```StandardCommercialRobot``` will be passed to ```AltimeterDecorator``` and then again passed to ```AltimeterDecorator``` and then finally passed to  ```AccelerometerDecorator```  "
   ]
  },
  {
   "cell_type": "code",
   "execution_count": 5,
   "metadata": {},
   "outputs": [
    {
     "data": {
      "text/plain": [
       "Base Commercial Package"
      ]
     },
     "execution_count": 5,
     "metadata": {},
     "output_type": "execute_result"
    }
   ],
   "source": [
    "// base configuration\n",
    "StandardCommercialRobot scr = new StandardCommercialRobot();\n",
    "scr.getCoreFunctionality();"
   ]
  },
  {
   "cell_type": "code",
   "execution_count": 6,
   "metadata": {},
   "outputs": [
    {
     "data": {
      "text/plain": [
       "Base Commercial Package\n",
       "+ Altimeter"
      ]
     },
     "execution_count": 6,
     "metadata": {},
     "output_type": "execute_result"
    }
   ],
   "source": [
    "// base configuration + altimeter\n",
    "AltimeterDecorator ald = new AltimeterDecorator(scr);\n",
    "ald.getAdditionalFunctionality();"
   ]
  },
  {
   "cell_type": "code",
   "execution_count": 7,
   "metadata": {},
   "outputs": [
    {
     "data": {
      "text/plain": [
       "Base Commercial Package\n",
       "+ Altimeter\n",
       "+ Altimeter"
      ]
     },
     "execution_count": 7,
     "metadata": {},
     "output_type": "execute_result"
    }
   ],
   "source": [
    "// another altimeter\n",
    "AltimeterDecorator ald2 = new AltimeterDecorator(ald);\n",
    "ald2.getAdditionalFunctionality();"
   ]
  },
  {
   "cell_type": "code",
   "execution_count": 8,
   "metadata": {},
   "outputs": [
    {
     "data": {
      "text/plain": [
       "Base Commercial Package\n",
       "+ Altimeter\n",
       "+ Altimeter\n",
       "+ Accelerometer"
      ]
     },
     "execution_count": 8,
     "metadata": {},
     "output_type": "execute_result"
    }
   ],
   "source": [
    "// Accelerometer\n",
    "AccelerometerDecorator acc = new AccelerometerDecorator(ald2);\n",
    "acc.getAdditionalFunctionality();"
   ]
  },
  {
   "cell_type": "markdown",
   "metadata": {},
   "source": [
    "Here, we can see how 2 Altimeters and an Accelerometer were added to our standard commercial robot. There can be multiple configurations that can be created using the decorator pattern without creating a class explosion. Following is another example "
   ]
  },
  {
   "cell_type": "code",
   "execution_count": 9,
   "metadata": {},
   "outputs": [
    {
     "data": {
      "text/plain": [
       "Base Industrial Package"
      ]
     },
     "execution_count": 9,
     "metadata": {},
     "output_type": "execute_result"
    }
   ],
   "source": [
    "// base configuration\n",
    "StandardIndustrialRobot sir = new StandardIndustrialRobot();\n",
    "sir.getCoreFunctionality();"
   ]
  },
  {
   "cell_type": "code",
   "execution_count": 11,
   "metadata": {},
   "outputs": [
    {
     "data": {
      "text/plain": [
       "Base Industrial Package\n",
       "+ Accelerometer"
      ]
     },
     "execution_count": 11,
     "metadata": {},
     "output_type": "execute_result"
    }
   ],
   "source": [
    "// Accelerometer\n",
    "AccelerometerDecorator acc_1 = new AccelerometerDecorator(sir);\n",
    "acc_1.getAdditionalFunctionality();"
   ]
  },
  {
   "cell_type": "code",
   "execution_count": 13,
   "metadata": {},
   "outputs": [
    {
     "data": {
      "text/plain": [
       "Base Industrial Package\n",
       "+ Accelerometer\n",
       "+ Accelerometer"
      ]
     },
     "execution_count": 13,
     "metadata": {},
     "output_type": "execute_result"
    }
   ],
   "source": [
    "// Another accelerometer\n",
    "AccelerometerDecorator acc_2 = new AccelerometerDecorator(acc_1);\n",
    "acc_2.getAdditionalFunctionality();"
   ]
  }
 ],
 "metadata": {
  "kernelspec": {
   "display_name": "Java",
   "language": "java",
   "name": "java"
  },
  "language_info": {
   "codemirror_mode": "java",
   "file_extension": ".jshell",
   "mimetype": "text/x-java-source",
   "name": "Java",
   "pygments_lexer": "java",
   "version": "11.0.8+10-post-Ubuntu-0ubuntu118.04.1"
  }
 },
 "nbformat": 4,
 "nbformat_minor": 4
}
