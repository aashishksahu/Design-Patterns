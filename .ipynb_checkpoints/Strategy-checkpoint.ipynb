{
 "cells": [
  {
   "cell_type": "markdown",
   "metadata": {},
   "source": [
    "# Strategy Pattern\n",
    "\n",
    "![Strategy UML - https://refactoring.guru/design-patterns/strategy](assets/strategy.png)"
   ]
  },
  {
   "cell_type": "markdown",
   "metadata": {},
   "source": [
    "**Definition from Head First Design Patterns**\n",
    "\n",
    ">The Strategy Pattern defines a family of algorithms, encapsulates each one, and makes them interchangeable. Strategy lets the algorithm vary independently from clients that use it.\n",
    "\n",
    "**What I understood**\n",
    "\n",
    "If you need to create a piece of software that adds new requirements, then you want to be able to maintain it in such a way that adding new algorithms and functionality doesn't break down the existing ones.\n",
    "\n",
    "Strategy pattern in layman terms is plug-n-play. Instead of hard binding a set of functionality in a base class and override it in the derived class we can create a generic interface or class that describes the behaiviour or strategy to implement that algorithm. \n",
    "\n",
    "For example, If I am making robots for the government, I will use a base class to describe what I am building, i.e., `Robot`. Now, there can be different kinds of robots, such as, navy robots, flight robots for air force, stealth robots for intelligence agencies, clerk robots for reception etc. A navy robot and a stealth robot both will use guns, but a navy robot might use a rifle while a stealth robot uses a handgun with supressor. A clerk robot will not use guns at all. Therefore, we need to have multiple implementations of `gunUseStrategy` to suit the needs of a specific robot. "
   ]
  },
  {
   "cell_type": "code",
   "execution_count": 3,
   "metadata": {},
   "outputs": [],
   "source": [
    "# Informal interface for gun use\n",
    "\n",
    "class GunUseStrategy:\n",
    "    def firearmsType():\n",
    "        pass"
   ]
  },
  {
   "cell_type": "code",
   "execution_count": null,
   "metadata": {},
   "outputs": [],
   "source": [
    "# Implementing GunUseStrategy for Navy robots\n",
    "\n",
    "class NavyGunUseStrategy(GunUseStrategy)"
   ]
  },
  {
   "cell_type": "code",
   "execution_count": 4,
   "metadata": {},
   "outputs": [],
   "source": [
    "# Let's start with the foundation of our product\n",
    "\n",
    "class Robot:\n",
    "    # Injecting gunUseStrategy as a Dependency\n",
    "    def __init__(self, gunUse: GunUseStrategy):\n",
    "        this.gunUse = gunUse"
   ]
  },
  {
   "cell_type": "code",
   "execution_count": null,
   "metadata": {},
   "outputs": [],
   "source": []
  }
 ],
 "metadata": {
  "kernelspec": {
   "display_name": "Python 3",
   "language": "python",
   "name": "python3"
  },
  "language_info": {
   "codemirror_mode": {
    "name": "ipython",
    "version": 3
   },
   "file_extension": ".py",
   "mimetype": "text/x-python",
   "name": "python",
   "nbconvert_exporter": "python",
   "pygments_lexer": "ipython3",
   "version": "3.6.9"
  }
 },
 "nbformat": 4,
 "nbformat_minor": 4
}
