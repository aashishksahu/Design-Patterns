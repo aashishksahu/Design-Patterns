{
 "cells": [
  {
   "cell_type": "markdown",
   "metadata": {},
   "source": [
    "# Observer Pattern\n",
    "\n",
    "<img src='https://upload.wikimedia.org/wikipedia/commons/thumb/a/a8/Observer_w_update.svg/1280px-Observer_w_update.svg.png' title='Observer Pattern - Wikipedia' width=600>"
   ]
  },
  {
   "cell_type": "markdown",
   "metadata": {},
   "source": [
    "The observer pattern works like a youtube channel, a user subscribes to a channel and is notified whenever a new video is uploaded. Here, the user is the \"Observer\", the youtube channel is the \"Observable\" or \"Subject\". \n",
    "\n",
    "Everytime there is a change in the observable's state, all the observers that are enlisted or subscribed to the observable get notified by getting their update method called by the observable. "
   ]
  },
  {
   "cell_type": "markdown",
   "metadata": {},
   "source": [
    "#### Overview\n",
    "\n",
    "```MarsRover``` is the observable which has a state object of type ```PlanetState``` which stores ```temperature``` and ```atmosphericPressure```. ```EarthCenter``` is the subscriber which requires regular updates from the ```MarsRover```."
   ]
  },
  {
   "cell_type": "code",
   "execution_count": 1,
   "metadata": {},
   "outputs": [],
   "source": [
    "import java.util.ArrayList;\n",
    "import java.util.Random;"
   ]
  },
  {
   "cell_type": "code",
   "execution_count": 2,
   "metadata": {},
   "outputs": [],
   "source": [
    "// create a bean for the state of the observable\n",
    "class PlanetState{\n",
    "    private double temperature;\n",
    "    private double atmosphericPressure;\n",
    "    \n",
    "    public double getTemperature(){\n",
    "        return this.temperature;\n",
    "    }\n",
    "    \n",
    "    public void setTemperature(double val){\n",
    "        this.temperature = val;\n",
    "    }\n",
    "    \n",
    "    public double getAtmosphericPressure(){\n",
    "        return this.atmosphericPressure;\n",
    "    }\n",
    "    \n",
    "    public void setAtmosphericPressure(double val){\n",
    "        this.atmosphericPressure = val;\n",
    "    }\n",
    "    \n",
    "    @Override\n",
    "    public String toString(){\n",
    "        return \"Temperature: \"+Double.toString(this.temperature)+\n",
    "            \"\\nAtmospheric Pressure: \"+Double.toString(this.atmosphericPressure);\n",
    "    }\n",
    "    \n",
    "}"
   ]
  },
  {
   "cell_type": "code",
   "execution_count": 3,
   "metadata": {},
   "outputs": [],
   "source": [
    "// Create a subscriber abstraction\n",
    "interface ISubscriber{\n",
    "    public void update(PlanetState updatedState);\n",
    "}\n",
    "\n",
    "// Create an observable/subject abstraction\n",
    "interface IObservable{\n",
    "    \n",
    "    public void addSubscriber(ISubscriber newSubscriber);\n",
    "    public void removeSubscriber(ISubscriber existingSubscriber);\n",
    "    public void notifySubscriber();\n",
    "}"
   ]
  },
  {
   "cell_type": "code",
   "execution_count": 4,
   "metadata": {},
   "outputs": [],
   "source": [
    "// now, let's create a concrete iplementation of the observer and the observable\n",
    "class EarthCenter implements ISubscriber{\n",
    "    private PlanetState subscribedState;\n",
    "    \n",
    "    public EarthCenter(){\n",
    "        this.subscribedState = new PlanetState();\n",
    "        \n",
    "        System.out.println(\"[EarthCenter] Initialization complete...\");\n",
    "    }\n",
    "    \n",
    "    private void displayState(){\n",
    "        System.out.println(\"[EarthCenter] Latest State Update >>\");\n",
    "        System.out.println(this.subscribedState.toString());\n",
    "        System.out.println(\"\");\n",
    "    }\n",
    "    \n",
    "    @Override\n",
    "    public void update(PlanetState updatedState){\n",
    "        System.out.println(\"[EarthCenter] New Updates Received...\");\n",
    "        // update the state\n",
    "        this.subscribedState = updatedState;\n",
    "        \n",
    "        System.out.println(\"[EarthCenter] State Updated...\");\n",
    "        // here, to demonstrate that the changes were made,\n",
    "        // we call the display function \n",
    "        this.displayState();\n",
    "    }\n",
    "}"
   ]
  },
  {
   "cell_type": "code",
   "execution_count": 5,
   "metadata": {},
   "outputs": [],
   "source": [
    "class MarsRover implements IObservable{\n",
    "    \n",
    "    // This will hold all the subscribers\n",
    "    private ArrayList<ISubscriber> subscriberList;\n",
    "    // This is the state of the MarsRover object which \n",
    "    // stores the temperature and atmospheric pressure of the \n",
    "    // surroundings\n",
    "    private PlanetState marsRoverState;\n",
    "    \n",
    "    public MarsRover(){\n",
    "        // initialize the subscribers list when a new instance is created\n",
    "        this.subscriberList = new <ISubscriber>ArrayList();\n",
    "        // Initialize the state of the mars rover\n",
    "        this.marsRoverState = new PlanetState();\n",
    "        \n",
    "        System.out.println(\"[MarsRover] Initialization complete...\");\n",
    "        \n",
    "    }\n",
    "    \n",
    "    @Override\n",
    "    public void addSubscriber(ISubscriber newSubscriber){\n",
    "        // add subscribers to the list\n",
    "        this.subscriberList.add(newSubscriber);\n",
    "        \n",
    "        System.out.println(\"[MarsRover] Subscription Added...\");\n",
    "    }\n",
    "    \n",
    "    @Override\n",
    "    public void removeSubscriber(ISubscriber existingSubscriber){\n",
    "        // remove subscribers from the list\n",
    "        this.subscriberList.remove(existingSubscriber);\n",
    "        \n",
    "        System.out.println(\"[MarsRover] Subscription Removed...\");\n",
    "    }\n",
    "    \n",
    "    @Override\n",
    "    public void notifySubscriber(){\n",
    "        \n",
    "        if(this.subscriberList.size()>0){\n",
    "            System.out.println(\"[MarsRover] Subscribers Notified...\");\n",
    "            for(ISubscriber subscriber: this.subscriberList){\n",
    "                subscriber.update(this.marsRoverState);\n",
    "            }\n",
    "        } else{\n",
    "            System.out.println(\"[MarsRover] No Subscribers Found...\\n\");\n",
    "        }\n",
    "    }\n",
    "    \n",
    "    public void monitorConditions(){\n",
    "        // This method gathers information from the sensors\n",
    "        // and updates the data \n",
    "        \n",
    "        // we don't have any sensors so we will simulate a \n",
    "        // very basic set of data values\n",
    "        \n",
    "        // Generating random numbers for both temperature and pressure\n",
    "        // for 10 times and updating the current state\n",
    "        \n",
    "        Random temperature = new Random();\n",
    "        Random pressure = new Random();\n",
    "        \n",
    "        for(int i = 0; i < 5; i++){\n",
    "            this.marsRoverState.setTemperature(temperature.nextFloat());\n",
    "            this.marsRoverState.setAtmosphericPressure(pressure.nextFloat());\n",
    "            // since, new values were assigned, the state was changed\n",
    "            // therefore, the subscribers will be notified\n",
    "            System.out.println(\"[MarsRover] New Data Received from Sensors...\");\n",
    "            this.notifySubscriber();\n",
    "        }\n",
    "        \n",
    "    }\n",
    "    \n",
    "} "
   ]
  },
  {
   "cell_type": "code",
   "execution_count": 6,
   "metadata": {},
   "outputs": [
    {
     "name": "stdout",
     "output_type": "stream",
     "text": [
      "[MarsRover] Initialization complete...\n",
      "[EarthCenter] Initialization complete...\n"
     ]
    }
   ],
   "source": [
    "// initialize the observable\n",
    "MarsRover perseverance = new MarsRover();\n",
    "// initialize the observer\n",
    "EarthCenter houston = new EarthCenter();"
   ]
  },
  {
   "cell_type": "code",
   "execution_count": 7,
   "metadata": {},
   "outputs": [
    {
     "name": "stdout",
     "output_type": "stream",
     "text": [
      "[MarsRover] Subscription Added...\n"
     ]
    }
   ],
   "source": [
    "// observer subscribes to observable\n",
    "perseverance.addSubscriber(houston);"
   ]
  },
  {
   "cell_type": "code",
   "execution_count": 8,
   "metadata": {},
   "outputs": [
    {
     "name": "stdout",
     "output_type": "stream",
     "text": [
      "[MarsRover] New Data Received from Sensors...\n",
      "[MarsRover] Subscribers Notified...\n",
      "[EarthCenter] New Updates Received...\n",
      "[EarthCenter] State Updated...\n",
      "[EarthCenter] Latest State Update >>\n",
      "Temperature: 0.14513278007507324\n",
      "Atmospheric Pressure: 0.641596794128418\n",
      "\n",
      "[MarsRover] New Data Received from Sensors...\n",
      "[MarsRover] Subscribers Notified...\n",
      "[EarthCenter] New Updates Received...\n",
      "[EarthCenter] State Updated...\n",
      "[EarthCenter] Latest State Update >>\n",
      "Temperature: 0.16909551620483398\n",
      "Atmospheric Pressure: 0.02777421474456787\n",
      "\n",
      "[MarsRover] New Data Received from Sensors...\n",
      "[MarsRover] Subscribers Notified...\n",
      "[EarthCenter] New Updates Received...\n",
      "[EarthCenter] State Updated...\n",
      "[EarthCenter] Latest State Update >>\n",
      "Temperature: 0.7725921869277954\n",
      "Atmospheric Pressure: 0.8905625343322754\n",
      "\n",
      "[MarsRover] New Data Received from Sensors...\n",
      "[MarsRover] Subscribers Notified...\n",
      "[EarthCenter] New Updates Received...\n",
      "[EarthCenter] State Updated...\n",
      "[EarthCenter] Latest State Update >>\n",
      "Temperature: 0.8421502113342285\n",
      "Atmospheric Pressure: 0.6942430734634399\n",
      "\n",
      "[MarsRover] New Data Received from Sensors...\n",
      "[MarsRover] Subscribers Notified...\n",
      "[EarthCenter] New Updates Received...\n",
      "[EarthCenter] State Updated...\n",
      "[EarthCenter] Latest State Update >>\n",
      "Temperature: 0.5946301221847534\n",
      "Atmospheric Pressure: 0.8293935060501099\n",
      "\n"
     ]
    }
   ],
   "source": [
    "perseverance.monitorConditions();"
   ]
  },
  {
   "cell_type": "code",
   "execution_count": 9,
   "metadata": {},
   "outputs": [
    {
     "name": "stdout",
     "output_type": "stream",
     "text": [
      "[MarsRover] Subscription Removed...\n"
     ]
    }
   ],
   "source": [
    "// Finally let's unsubscribe from MarsRover\n",
    "perseverance.removeSubscriber(houston);"
   ]
  },
  {
   "cell_type": "code",
   "execution_count": 10,
   "metadata": {},
   "outputs": [
    {
     "name": "stdout",
     "output_type": "stream",
     "text": [
      "[MarsRover] New Data Received from Sensors...\n",
      "[MarsRover] No Subscribers Found...\n",
      "\n",
      "[MarsRover] New Data Received from Sensors...\n",
      "[MarsRover] No Subscribers Found...\n",
      "\n",
      "[MarsRover] New Data Received from Sensors...\n",
      "[MarsRover] No Subscribers Found...\n",
      "\n",
      "[MarsRover] New Data Received from Sensors...\n",
      "[MarsRover] No Subscribers Found...\n",
      "\n",
      "[MarsRover] New Data Received from Sensors...\n",
      "[MarsRover] No Subscribers Found...\n",
      "\n"
     ]
    }
   ],
   "source": [
    "perseverance.monitorConditions();"
   ]
  },
  {
   "cell_type": "markdown",
   "metadata": {},
   "source": [
    "Since, there are no subscribers to MarsRover, ```No Subscribers Found...``` message is displayed and the observers are not notified because there aren't any."
   ]
  }
 ],
 "metadata": {
  "kernelspec": {
   "display_name": "Java",
   "language": "java",
   "name": "java"
  },
  "language_info": {
   "codemirror_mode": "java",
   "file_extension": ".jshell",
   "mimetype": "text/x-java-source",
   "name": "Java",
   "pygments_lexer": "java",
   "version": "11.0.8+10-post-Ubuntu-0ubuntu118.04.1"
  }
 },
 "nbformat": 4,
 "nbformat_minor": 4
}
