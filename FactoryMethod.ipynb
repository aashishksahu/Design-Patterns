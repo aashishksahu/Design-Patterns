{
 "cells": [
  {
   "cell_type": "markdown",
   "metadata": {},
   "source": [
    "# Factory Method\n",
    "\n",
    "<img src=\"https://upload.wikimedia.org/wikipedia/commons/4/43/W3sDesign_Factory_Method_Design_Pattern_UML.jpg\" width=600>"
   ]
  },
  {
   "cell_type": "markdown",
   "metadata": {},
   "source": [
    "Factory method is a _factory method_ that produces instances of a subclass.\n",
    "So, we have an interface some product, and a bunch of different classes implementing that interface. Now, when we instantiate a class we might achieve what we want when the number of classes are small, but, when there are a dozens of classes that implement the interface and we have to decide which clas to instantiate at run-time then we'll need a factory method whose job is to instantiate a class.\n",
    "\n",
    "So, let's continue with our robots. \n",
    "A ```IRobot``` interface is implemented by ```SpaceRobot```, ```HouseRobot```, ```IndustrialRobot```, ```TeacherRobot```, ```FarmerRobot```, ```MilitaryRobot```. The government wants to buy a bunch of different robot types. So, now we go to our ```RobotCreator``` class which implements ```IRobotFactory```."
   ]
  },
  {
   "cell_type": "code",
   "execution_count": 1,
   "metadata": {},
   "outputs": [],
   "source": [
    "interface IRobot{\n",
    "    // what kind of robot is it.\n",
    "    // Override this method to specify the type of robot\n",
    "    public String robotType();\n",
    "}"
   ]
  },
  {
   "cell_type": "code",
   "execution_count": 2,
   "metadata": {},
   "outputs": [],
   "source": [
    "// Factory method interface\n",
    "interface IRobotFactory{\n",
    "    // Override this method to instantiate a robot class\n",
    "    public IRobot createRobot(String robotType);\n",
    "}"
   ]
  },
  {
   "cell_type": "code",
   "execution_count": 3,
   "metadata": {},
   "outputs": [],
   "source": [
    "// Implementations of IRobot\n",
    "class SpaceRobot implements IRobot{\n",
    "    @Override\n",
    "    public String robotType(){\n",
    "        return \"Space Robot\";\n",
    "    }\n",
    "}\n",
    "\n",
    "class HouseRobot implements IRobot{\n",
    "    @Override\n",
    "    public String robotType(){\n",
    "        return \"House Robot\";\n",
    "    }\n",
    "}\n",
    "\n",
    "class IndustrialRobot implements IRobot{\n",
    "    @Override\n",
    "    public String robotType(){\n",
    "        return \"Industrial Robot\";\n",
    "    }\n",
    "}\n",
    "\n",
    "class TeacherRobot implements IRobot{\n",
    "    @Override\n",
    "    public String robotType(){\n",
    "        return \"Teacher Robot\";\n",
    "    }\n",
    "}\n",
    "\n",
    "class FarmerRobot implements IRobot{\n",
    "    @Override\n",
    "    public String robotType(){\n",
    "        return \"Farmer Robot\";\n",
    "    }\n",
    "}\n",
    "\n",
    "class MilitaryRobot implements IRobot{\n",
    "    @Override\n",
    "    public String robotType(){\n",
    "        return \"Military Robot\";\n",
    "    }\n",
    "}"
   ]
  },
  {
   "cell_type": "code",
   "execution_count": 4,
   "metadata": {},
   "outputs": [],
   "source": [
    "// Now, we'll implement the factory method\n",
    "class RobotCreator implements IRobotFactory{\n",
    "    @Override\n",
    "    public IRobot createRobot(String robotType){\n",
    "        IRobot newRobot = null;\n",
    "        \n",
    "        if(robotType.equals(\"space\")){\n",
    "            newRobot = new SpaceRobot();\n",
    "        \n",
    "        } else if(robotType.equals(\"house\")){\n",
    "            newRobot = new HouseRobot();\n",
    "       \n",
    "        }else if(robotType.equals(\"industrial\")){\n",
    "            newRobot = new IndustrialRobot();\n",
    "        \n",
    "        }else if(robotType.equals(\"teacher\")){\n",
    "            newRobot = new TeacherRobot();\n",
    "        \n",
    "        }else if(robotType.equals(\"farmer\")){\n",
    "            newRobot = new FarmerRobot();\n",
    "        \n",
    "        }else if(robotType.equals(\"military\")){\n",
    "            newRobot = new MilitaryRobot();\n",
    "        }\n",
    "        \n",
    "        return newRobot;\n",
    "    }\n",
    "}"
   ]
  },
  {
   "cell_type": "markdown",
   "metadata": {},
   "source": [
    "That's all about how to create a factory method design pattern, now, let's see how it works"
   ]
  },
  {
   "cell_type": "code",
   "execution_count": 5,
   "metadata": {},
   "outputs": [],
   "source": [
    "// Initialize the factory method\n",
    "IRobotFactory robotArmy = new RobotCreator();"
   ]
  },
  {
   "cell_type": "code",
   "execution_count": 6,
   "metadata": {},
   "outputs": [
    {
     "name": "stdout",
     "output_type": "stream",
     "text": [
      "Robot Kind: Military Robot\n",
      "\n",
      "Robot Kind: Teacher Robot\n",
      "\n",
      "Robot Kind: Industrial Robot\n",
      "\n"
     ]
    }
   ],
   "source": [
    "// let's create a bunch of robots\n",
    "IRobot marine = robotArmy.createRobot(\"military\");\n",
    "System.out.println(\"Robot Kind: \"+marine.robotType()+\"\\n\");\n",
    "\n",
    "IRobot professor = robotArmy.createRobot(\"teacher\");\n",
    "System.out.println(\"Robot Kind: \"+professor.robotType()+\"\\n\");\n",
    "\n",
    "IRobot miner = robotArmy.createRobot(\"industrial\");\n",
    "System.out.println(\"Robot Kind: \"+miner.robotType()+\"\\n\");"
   ]
  },
  {
   "cell_type": "markdown",
   "metadata": {},
   "source": [
    "This is how we instantiate a class on runtime based on the requirement. When it is not possible to know what type of instance we need to create while writing code, we can use this design pattern."
   ]
  }
 ],
 "metadata": {
  "kernelspec": {
   "display_name": "Java",
   "language": "java",
   "name": "java"
  },
  "language_info": {
   "codemirror_mode": "java",
   "file_extension": ".jshell",
   "mimetype": "text/x-java-source",
   "name": "Java",
   "pygments_lexer": "java",
   "version": "11.0.8+10-post-Ubuntu-0ubuntu118.04.1"
  }
 },
 "nbformat": 4,
 "nbformat_minor": 4
}
